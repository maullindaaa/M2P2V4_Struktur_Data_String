{
  "nbformat": 4,
  "nbformat_minor": 0,
  "metadata": {
    "colab": {
      "name": "M2P2V4_Struktur_Data_String.ipynb",
      "provenance": [],
      "authorship_tag": "ABX9TyN1OykrtAJ51jhmSRaPR26p",
      "include_colab_link": true
    },
    "kernelspec": {
      "name": "python3",
      "display_name": "Python 3"
    },
    "language_info": {
      "name": "python"
    }
  },
  "cells": [
    {
      "cell_type": "markdown",
      "metadata": {
        "id": "view-in-github",
        "colab_type": "text"
      },
      "source": [
        "<a href=\"https://colab.research.google.com/github/maullindaaa/M2P2V4_Struktur_Data_String/blob/main/M2P2V4_Struktur_Data_String.ipynb\" target=\"_parent\"><img src=\"https://colab.research.google.com/assets/colab-badge.svg\" alt=\"Open In Colab\"/></a>"
      ]
    },
    {
      "cell_type": "markdown",
      "metadata": {
        "id": "fE2BhUcEpzZJ"
      },
      "source": [
        "#String"
      ]
    },
    {
      "cell_type": "code",
      "metadata": {
        "colab": {
          "base_uri": "https://localhost:8080/"
        },
        "id": "1NL9LVaOeGAc",
        "outputId": "4f44a5f9-3e52-4e52-a819-534cd1a3abfb"
      },
      "source": [
        "#Menampilkan string dengan fungsi print()\n",
        "print(\"Hello World!\")"
      ],
      "execution_count": null,
      "outputs": [
        {
          "output_type": "stream",
          "name": "stdout",
          "text": [
            "Hello World!\n"
          ]
        }
      ]
    },
    {
      "cell_type": "code",
      "metadata": {
        "colab": {
          "base_uri": "https://localhost:8080/"
        },
        "id": "UTD0OOWgeqU0",
        "outputId": "eba06a23-28fe-40f1-e185-67e1afae1da1"
      },
      "source": [
        "#Mmebuat variable bertipe string\n",
        "A = \"Belajar Struktur data string\"\n",
        "print(A)"
      ],
      "execution_count": null,
      "outputs": [
        {
          "output_type": "stream",
          "name": "stdout",
          "text": [
            "Belajar Struktur data string\n"
          ]
        }
      ]
    },
    {
      "cell_type": "code",
      "metadata": {
        "colab": {
          "base_uri": "https://localhost:8080/"
        },
        "id": "GiB1Q2DLe3Lq",
        "outputId": "9552a004-ab9f-48de-c321-b7d5c3c906d4"
      },
      "source": [
        "#Membuat variable string multi-line dengan 3 tanda petik\n",
        "B = \"\"\"Belajar Python\n",
        "Pejuang data 3.0 \n",
        "PSDS\n",
        "String\"\"\"\n",
        "print(B)"
      ],
      "execution_count": null,
      "outputs": [
        {
          "output_type": "stream",
          "name": "stdout",
          "text": [
            "Belajar Python\n",
            "Pejuang data 3.0 \n",
            "PSDS\n",
            "String\n"
          ]
        }
      ]
    },
    {
      "cell_type": "code",
      "metadata": {
        "colab": {
          "base_uri": "https://localhost:8080/"
        },
        "id": "caz3DcgYfid_",
        "outputId": "ff82410e-fd45-4521-f955-b768ec8e99ae"
      },
      "source": [
        "#Menampilkan karakter tertentu dalam string\n",
        "print(A[2])"
      ],
      "execution_count": null,
      "outputs": [
        {
          "output_type": "stream",
          "name": "stdout",
          "text": [
            "l\n"
          ]
        }
      ]
    },
    {
      "cell_type": "code",
      "metadata": {
        "colab": {
          "base_uri": "https://localhost:8080/"
        },
        "id": "G96M0dJhfyNY",
        "outputId": "24f71840-0dbc-4d74-ccb0-d2db3891b875"
      },
      "source": [
        "#Slicing pada String\n",
        "A = \"Belajar Struktur data String\"\n",
        "print(A[:5])\n",
        "print(A[3:])\n",
        "print(A[-5:])\n",
        "print(A[4:9])"
      ],
      "execution_count": null,
      "outputs": [
        {
          "output_type": "stream",
          "name": "stdout",
          "text": [
            "Belaj\n",
            "ajar Struktur data String\n",
            "tring\n",
            "jar S\n"
          ]
        }
      ]
    },
    {
      "cell_type": "markdown",
      "metadata": {
        "id": "W0O1388jgMP9"
      },
      "source": [
        "Latihan 1"
      ]
    },
    {
      "cell_type": "code",
      "metadata": {
        "colab": {
          "base_uri": "https://localhost:8080/"
        },
        "id": "4hEln1K3gOgY",
        "outputId": "3460b29a-77ac-4479-dcc0-6bf9695a5629"
      },
      "source": [
        "#Buatlah variabel string lalu lakukan slicing dengan menghilangkan karakter pertama dan terakhir\n",
        "S= \"universitas ahmad dahlan yogyakarta\"\n",
        "print(S[1:34])"
      ],
      "execution_count": null,
      "outputs": [
        {
          "output_type": "stream",
          "name": "stdout",
          "text": [
            "niversitas ahmad dahlan yogyakart\n"
          ]
        }
      ]
    },
    {
      "cell_type": "markdown",
      "metadata": {
        "id": "Rh_euPdcgZpw"
      },
      "source": [
        "Memodifikasi String"
      ]
    },
    {
      "cell_type": "code",
      "metadata": {
        "colab": {
          "base_uri": "https://localhost:8080/",
          "height": 35
        },
        "id": "fBQPbR8lgcje",
        "outputId": "49585e67-6374-49cb-b61f-ba1664d7c087"
      },
      "source": [
        "#upper()\n",
        "A.upper()"
      ],
      "execution_count": null,
      "outputs": [
        {
          "output_type": "execute_result",
          "data": {
            "application/vnd.google.colaboratory.intrinsic+json": {
              "type": "string"
            },
            "text/plain": [
              "'BELAJAR STRUKTUR DATA STRING'"
            ]
          },
          "metadata": {},
          "execution_count": 7
        }
      ]
    },
    {
      "cell_type": "code",
      "metadata": {
        "colab": {
          "base_uri": "https://localhost:8080/",
          "height": 35
        },
        "id": "VP4h9fIWgmkL",
        "outputId": "de2e260b-c591-4edb-ab95-f93a633d5389"
      },
      "source": [
        "#lower\n",
        "A.lower()"
      ],
      "execution_count": null,
      "outputs": [
        {
          "output_type": "execute_result",
          "data": {
            "application/vnd.google.colaboratory.intrinsic+json": {
              "type": "string"
            },
            "text/plain": [
              "'belajar struktur data string'"
            ]
          },
          "metadata": {},
          "execution_count": 8
        }
      ]
    },
    {
      "cell_type": "code",
      "metadata": {
        "colab": {
          "base_uri": "https://localhost:8080/",
          "height": 35
        },
        "id": "KbyqJFEigqfd",
        "outputId": "b49accd7-41d3-4391-ca91-9ff461073073"
      },
      "source": [
        "#strip\n",
        "A.strip()"
      ],
      "execution_count": null,
      "outputs": [
        {
          "output_type": "execute_result",
          "data": {
            "application/vnd.google.colaboratory.intrinsic+json": {
              "type": "string"
            },
            "text/plain": [
              "'Belajar Struktur data String'"
            ]
          },
          "metadata": {},
          "execution_count": 9
        }
      ]
    },
    {
      "cell_type": "code",
      "metadata": {
        "colab": {
          "base_uri": "https://localhost:8080/",
          "height": 35
        },
        "id": "6UoFNRd9gvIz",
        "outputId": "f50f7a2b-9878-46cc-b7c1-18c637482c56"
      },
      "source": [
        "#replace()\n",
        "A.replace('l','d')\n",
        "A.replace()"
      ],
      "execution_count": null,
      "outputs": [
        {
          "output_type": "execute_result",
          "data": {
            "application/vnd.google.colaboratory.intrinsic+json": {
              "type": "string"
            },
            "text/plain": [
              "'Bedajar Struktur data String'"
            ]
          },
          "metadata": {},
          "execution_count": 11
        }
      ]
    },
    {
      "cell_type": "code",
      "metadata": {
        "colab": {
          "base_uri": "https://localhost:8080/"
        },
        "id": "fWFvYpfJgz6h",
        "outputId": "58c3a3be-98fe-4137-9c5b-6ec0fb98e00b"
      },
      "source": [
        "#split()\n",
        "A.split()"
      ],
      "execution_count": null,
      "outputs": [
        {
          "output_type": "execute_result",
          "data": {
            "text/plain": [
              "['Belajar', 'Struktur', 'data', 'String']"
            ]
          },
          "metadata": {},
          "execution_count": 12
        }
      ]
    },
    {
      "cell_type": "markdown",
      "metadata": {
        "id": "ILnKmHsqg6r2"
      },
      "source": [
        "Menggabungkan String"
      ]
    },
    {
      "cell_type": "code",
      "metadata": {
        "colab": {
          "base_uri": "https://localhost:8080/",
          "height": 35
        },
        "id": "nv-3cwa3g5xh",
        "outputId": "55953c65-cf69-4126-b9f1-504bcdcad610"
      },
      "source": [
        "A=\"Belajar Struktur data String\"\n",
        "B=\"Pejuang data 3.0\"\n",
        "A+\" \"+B"
      ],
      "execution_count": null,
      "outputs": [
        {
          "output_type": "execute_result",
          "data": {
            "application/vnd.google.colaboratory.intrinsic+json": {
              "type": "string"
            },
            "text/plain": [
              "'Belajar Struktur data String Pejuang data 3.0'"
            ]
          },
          "metadata": {},
          "execution_count": 13
        }
      ]
    },
    {
      "cell_type": "markdown",
      "metadata": {
        "id": "eyL6GGLghfZL"
      },
      "source": [
        "Latihan 2"
      ]
    },
    {
      "cell_type": "code",
      "metadata": {
        "colab": {
          "base_uri": "https://localhost:8080/"
        },
        "id": "FjyXL0yuhhhq",
        "outputId": "1667e0ed-ad73-4f24-daa8-7c4bec4b0eb1"
      },
      "source": [
        "#Ganti semua huruf vokal menjadi \"i\" pada string yang telah kalian buat pada latihan 1\n",
        "S =S.replace('a','i')\n",
        "S = S.replace('u','i')\n",
        "S =S.replace('e','i')\n",
        "S =S.replace('o','i')\n",
        "\n",
        "print(S)"
      ],
      "execution_count": null,
      "outputs": [
        {
          "output_type": "stream",
          "name": "stdout",
          "text": [
            "inivirsitis ihmid dihlin yigyikirti\n"
          ]
        }
      ]
    }
  ]
}